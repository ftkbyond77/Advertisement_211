{
 "cells": [
  {
   "cell_type": "code",
   "execution_count": 1,
   "id": "2720df4f",
   "metadata": {},
   "outputs": [
    {
     "name": "stderr",
     "output_type": "stream",
     "text": [
      "Matplotlib is building the font cache; this may take a moment.\n"
     ]
    }
   ],
   "source": [
    "import os \n",
    "import pandas as pd \n",
    "import numpy as np\n",
    "import matplotlib.pyplot as plt \n",
    "import seaborn as sns"
   ]
  },
  {
   "cell_type": "code",
   "execution_count": 2,
   "id": "40a159c4",
   "metadata": {},
   "outputs": [],
   "source": [
    "import torch"
   ]
  },
  {
   "cell_type": "code",
   "execution_count": 3,
   "id": "0551942c",
   "metadata": {},
   "outputs": [
    {
     "data": {
      "text/plain": [
       "(1115, 139)"
      ]
     },
     "execution_count": 3,
     "metadata": {},
     "output_type": "execute_result"
    }
   ],
   "source": [
    "csv_path = os.path.join(\"..\", \"Data\", \"df_main.csv\")\n",
    "df = pd.read_csv(csv_path)\n",
    "df.shape"
   ]
  },
  {
   "cell_type": "code",
   "execution_count": 4,
   "id": "713376d0",
   "metadata": {},
   "outputs": [
    {
     "data": {
      "text/html": [
       "<div>\n",
       "<style scoped>\n",
       "    .dataframe tbody tr th:only-of-type {\n",
       "        vertical-align: middle;\n",
       "    }\n",
       "\n",
       "    .dataframe tbody tr th {\n",
       "        vertical-align: top;\n",
       "    }\n",
       "\n",
       "    .dataframe thead th {\n",
       "        text-align: right;\n",
       "    }\n",
       "</style>\n",
       "<table border=\"1\" class=\"dataframe\">\n",
       "  <thead>\n",
       "    <tr style=\"text-align: right;\">\n",
       "      <th></th>\n",
       "      <th>feature_0</th>\n",
       "      <th>feature_1</th>\n",
       "      <th>feature_2</th>\n",
       "      <th>feature_3</th>\n",
       "      <th>feature_4</th>\n",
       "      <th>feature_5</th>\n",
       "      <th>feature_6</th>\n",
       "      <th>feature_7</th>\n",
       "      <th>feature_8</th>\n",
       "      <th>feature_9</th>\n",
       "      <th>...</th>\n",
       "      <th>img_id</th>\n",
       "      <th>sentences</th>\n",
       "      <th>text_length</th>\n",
       "      <th>word_list</th>\n",
       "      <th>Negative</th>\n",
       "      <th>Neutral</th>\n",
       "      <th>Positive</th>\n",
       "      <th>has_cta</th>\n",
       "      <th>ctr</th>\n",
       "      <th>ctr_group</th>\n",
       "    </tr>\n",
       "  </thead>\n",
       "  <tbody>\n",
       "    <tr>\n",
       "      <th>0</th>\n",
       "      <td>0.708480</td>\n",
       "      <td>0.759826</td>\n",
       "      <td>0.449038</td>\n",
       "      <td>0.476864</td>\n",
       "      <td>0.791149</td>\n",
       "      <td>0.541827</td>\n",
       "      <td>0.389004</td>\n",
       "      <td>0.282455</td>\n",
       "      <td>0.802612</td>\n",
       "      <td>0.318787</td>\n",
       "      <td>...</td>\n",
       "      <td>c7e254ff6e829bbd379c791c06dba26a</td>\n",
       "      <td>วันนี - 14 มีนาคม 2568 รีบด่วน 400 web hosting</td>\n",
       "      <td>46</td>\n",
       "      <td>['วัน', 'นี', ' ', '-', ' ', '14', ' ', 'มีนาค...</td>\n",
       "      <td>0</td>\n",
       "      <td>16</td>\n",
       "      <td>0</td>\n",
       "      <td>False</td>\n",
       "      <td>0.000000</td>\n",
       "      <td>Low</td>\n",
       "    </tr>\n",
       "    <tr>\n",
       "      <th>1</th>\n",
       "      <td>0.733801</td>\n",
       "      <td>0.642118</td>\n",
       "      <td>0.425671</td>\n",
       "      <td>0.490838</td>\n",
       "      <td>0.708187</td>\n",
       "      <td>0.605140</td>\n",
       "      <td>0.204538</td>\n",
       "      <td>0.374215</td>\n",
       "      <td>0.633562</td>\n",
       "      <td>0.262923</td>\n",
       "      <td>...</td>\n",
       "      <td>310f05853aa67594eadcecfaeab260c9</td>\n",
       "      <td>แฟลชเซล มาก่อน ได้ก่อน 899 12 00 น.</td>\n",
       "      <td>35</td>\n",
       "      <td>['แฟลช', 'เซ', 'ล', ' ', 'มา', 'ก่อน', ' ', 'ไ...</td>\n",
       "      <td>0</td>\n",
       "      <td>1</td>\n",
       "      <td>0</td>\n",
       "      <td>False</td>\n",
       "      <td>0.016482</td>\n",
       "      <td>Low</td>\n",
       "    </tr>\n",
       "  </tbody>\n",
       "</table>\n",
       "<p>2 rows × 139 columns</p>\n",
       "</div>"
      ],
      "text/plain": [
       "   feature_0  feature_1  feature_2  feature_3  feature_4  feature_5  \\\n",
       "0   0.708480   0.759826   0.449038   0.476864   0.791149   0.541827   \n",
       "1   0.733801   0.642118   0.425671   0.490838   0.708187   0.605140   \n",
       "\n",
       "   feature_6  feature_7  feature_8  feature_9  ...  \\\n",
       "0   0.389004   0.282455   0.802612   0.318787  ...   \n",
       "1   0.204538   0.374215   0.633562   0.262923  ...   \n",
       "\n",
       "                             img_id  \\\n",
       "0  c7e254ff6e829bbd379c791c06dba26a   \n",
       "1  310f05853aa67594eadcecfaeab260c9   \n",
       "\n",
       "                                        sentences  text_length  \\\n",
       "0  วันนี - 14 มีนาคม 2568 รีบด่วน 400 web hosting           46   \n",
       "1             แฟลชเซล มาก่อน ได้ก่อน 899 12 00 น.           35   \n",
       "\n",
       "                                           word_list  Negative  Neutral  \\\n",
       "0  ['วัน', 'นี', ' ', '-', ' ', '14', ' ', 'มีนาค...         0       16   \n",
       "1  ['แฟลช', 'เซ', 'ล', ' ', 'มา', 'ก่อน', ' ', 'ไ...         0        1   \n",
       "\n",
       "   Positive  has_cta       ctr  ctr_group  \n",
       "0         0    False  0.000000        Low  \n",
       "1         0    False  0.016482        Low  \n",
       "\n",
       "[2 rows x 139 columns]"
      ]
     },
     "execution_count": 4,
     "metadata": {},
     "output_type": "execute_result"
    }
   ],
   "source": [
    "df.head(2)"
   ]
  },
  {
   "cell_type": "code",
   "execution_count": 5,
   "id": "61a85460",
   "metadata": {},
   "outputs": [
    {
     "data": {
      "text/plain": [
       "Index(['feature_0', 'feature_1', 'feature_2', 'feature_3', 'feature_4',\n",
       "       'feature_5', 'feature_6', 'feature_7', 'feature_8', 'feature_9',\n",
       "       ...\n",
       "       'img_id', 'sentences', 'text_length', 'word_list', 'Negative',\n",
       "       'Neutral', 'Positive', 'has_cta', 'ctr', 'ctr_group'],\n",
       "      dtype='object', length=139)"
      ]
     },
     "execution_count": 5,
     "metadata": {},
     "output_type": "execute_result"
    }
   ],
   "source": [
    "df.columns"
   ]
  },
  {
   "cell_type": "code",
   "execution_count": 6,
   "id": "0b01c2f0",
   "metadata": {},
   "outputs": [
    {
     "data": {
      "text/plain": [
       "array(['Low', 'High'], dtype=object)"
      ]
     },
     "execution_count": 6,
     "metadata": {},
     "output_type": "execute_result"
    }
   ],
   "source": [
    "df['ctr_group'].unique()"
   ]
  },
  {
   "cell_type": "code",
   "execution_count": null,
   "id": "79ec46a6",
   "metadata": {},
   "outputs": [],
   "source": [
    "from transformers import pipeline\n",
    "\n",
    "pipe = pipeline(\"text-classification\", model=\"phoner45/wangchan-sentiment-thai-text-model\")"
   ]
  },
  {
   "cell_type": "code",
   "execution_count": null,
   "id": "2dbe8d50",
   "metadata": {},
   "outputs": [],
   "source": [
    "# Load model directly\n",
    "from transformers import AutoTokenizer, AutoModelForSequenceClassification\n",
    "\n",
    "tokenizer = AutoTokenizer.from_pretrained(\"phoner45/wangchan-sentiment-thai-text-model\")\n",
    "model = AutoModelForSequenceClassification.from_pretrained(\"phoner45/wangchan-sentiment-thai-text-model\")"
   ]
  }
 ],
 "metadata": {
  "kernelspec": {
   "display_name": "tf_env",
   "language": "python",
   "name": "python3"
  },
  "language_info": {
   "codemirror_mode": {
    "name": "ipython",
    "version": 3
   },
   "file_extension": ".py",
   "mimetype": "text/x-python",
   "name": "python",
   "nbconvert_exporter": "python",
   "pygments_lexer": "ipython3",
   "version": "3.11.4"
  }
 },
 "nbformat": 4,
 "nbformat_minor": 5
}
