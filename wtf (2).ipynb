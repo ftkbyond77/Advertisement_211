{
 "cells": [
  {
   "cell_type": "code",
   "execution_count": 15,
   "id": "1229347e",
   "metadata": {},
   "outputs": [],
   "source": [
    "import os\n",
    "import matplotlib.image as mpimg\n",
    "import pandas as pd\n",
    "import numpy as np\n",
    "import matplotlib.pyplot as plt\n",
    "import seaborn as sns\n",
    "from sklearn.model_selection import train_test_split\n",
    "from sklearn.preprocessing import StandardScaler, LabelEncoder\n",
    "from sklearn.ensemble import RandomForestClassifier\n",
    "from sklearn.metrics import classification_report, accuracy_score\n",
    "from imblearn.over_sampling import SMOTE\n",
    "from sklearn.model_selection import GridSearchCV\n",
    "from sklearn.ensemble import GradientBoostingClassifier\n",
    "from sklearn.linear_model import LogisticRegression"
   ]
  },
  {
   "cell_type": "code",
   "execution_count": 16,
   "id": "d9b19d83",
   "metadata": {},
   "outputs": [],
   "source": [
    "import os \n",
    "\n",
    "path = os.listdir(\"Data\")\n",
    "path2 = os.path.join(\"Data\", \"df_main.csv\")"
   ]
  },
  {
   "cell_type": "code",
   "execution_count": 17,
   "id": "6f2de97c",
   "metadata": {},
   "outputs": [],
   "source": [
    "# โหลดข้อมูล\n",
    "df = pd.read_csv(path2)"
   ]
  },
  {
   "cell_type": "code",
   "execution_count": 18,
   "id": "134bb841",
   "metadata": {},
   "outputs": [
    {
     "data": {
      "text/html": [
       "<div>\n",
       "<style scoped>\n",
       "    .dataframe tbody tr th:only-of-type {\n",
       "        vertical-align: middle;\n",
       "    }\n",
       "\n",
       "    .dataframe tbody tr th {\n",
       "        vertical-align: top;\n",
       "    }\n",
       "\n",
       "    .dataframe thead th {\n",
       "        text-align: right;\n",
       "    }\n",
       "</style>\n",
       "<table border=\"1\" class=\"dataframe\">\n",
       "  <thead>\n",
       "    <tr style=\"text-align: right;\">\n",
       "      <th></th>\n",
       "      <th>feature_0</th>\n",
       "      <th>feature_1</th>\n",
       "      <th>feature_2</th>\n",
       "      <th>feature_3</th>\n",
       "      <th>feature_4</th>\n",
       "      <th>feature_5</th>\n",
       "      <th>feature_6</th>\n",
       "      <th>feature_7</th>\n",
       "      <th>feature_8</th>\n",
       "      <th>feature_9</th>\n",
       "      <th>...</th>\n",
       "      <th>img_id</th>\n",
       "      <th>sentences</th>\n",
       "      <th>text_length</th>\n",
       "      <th>word_list</th>\n",
       "      <th>Negative</th>\n",
       "      <th>Neutral</th>\n",
       "      <th>Positive</th>\n",
       "      <th>has_cta</th>\n",
       "      <th>ctr</th>\n",
       "      <th>ctr_group</th>\n",
       "    </tr>\n",
       "  </thead>\n",
       "  <tbody>\n",
       "    <tr>\n",
       "      <th>0</th>\n",
       "      <td>0.708480</td>\n",
       "      <td>0.759826</td>\n",
       "      <td>0.449038</td>\n",
       "      <td>0.476864</td>\n",
       "      <td>0.791149</td>\n",
       "      <td>0.541827</td>\n",
       "      <td>0.389004</td>\n",
       "      <td>0.282455</td>\n",
       "      <td>0.802612</td>\n",
       "      <td>0.318787</td>\n",
       "      <td>...</td>\n",
       "      <td>c7e254ff6e829bbd379c791c06dba26a</td>\n",
       "      <td>วันนี - 14 มีนาคม 2568 รีบด่วน 400 web hosting</td>\n",
       "      <td>46</td>\n",
       "      <td>['วัน', 'นี', ' ', '-', ' ', '14', ' ', 'มีนาค...</td>\n",
       "      <td>0</td>\n",
       "      <td>16</td>\n",
       "      <td>0</td>\n",
       "      <td>False</td>\n",
       "      <td>0.000000</td>\n",
       "      <td>Low</td>\n",
       "    </tr>\n",
       "    <tr>\n",
       "      <th>1</th>\n",
       "      <td>0.733801</td>\n",
       "      <td>0.642118</td>\n",
       "      <td>0.425671</td>\n",
       "      <td>0.490838</td>\n",
       "      <td>0.708187</td>\n",
       "      <td>0.605140</td>\n",
       "      <td>0.204538</td>\n",
       "      <td>0.374215</td>\n",
       "      <td>0.633562</td>\n",
       "      <td>0.262923</td>\n",
       "      <td>...</td>\n",
       "      <td>310f05853aa67594eadcecfaeab260c9</td>\n",
       "      <td>แฟลชเซล มาก่อน ได้ก่อน 899 12 00 น.</td>\n",
       "      <td>35</td>\n",
       "      <td>['แฟลช', 'เซ', 'ล', ' ', 'มา', 'ก่อน', ' ', 'ไ...</td>\n",
       "      <td>0</td>\n",
       "      <td>1</td>\n",
       "      <td>0</td>\n",
       "      <td>False</td>\n",
       "      <td>0.016482</td>\n",
       "      <td>Low</td>\n",
       "    </tr>\n",
       "    <tr>\n",
       "      <th>2</th>\n",
       "      <td>0.587095</td>\n",
       "      <td>0.655419</td>\n",
       "      <td>0.328038</td>\n",
       "      <td>0.582514</td>\n",
       "      <td>0.626008</td>\n",
       "      <td>0.675075</td>\n",
       "      <td>0.503859</td>\n",
       "      <td>0.556132</td>\n",
       "      <td>0.578276</td>\n",
       "      <td>0.380239</td>\n",
       "      <td>...</td>\n",
       "      <td>a602b8402e30353896de582cfc8602d6</td>\n",
       "      <td>ifex prc ติวเข้ม tfex ให้ takeprofit ได้แบบมือโปร</td>\n",
       "      <td>49</td>\n",
       "      <td>['ifex', ' ', 'prc', ' ', 'ติว', 'เข้ม', ' ', ...</td>\n",
       "      <td>0</td>\n",
       "      <td>6</td>\n",
       "      <td>0</td>\n",
       "      <td>False</td>\n",
       "      <td>0.000000</td>\n",
       "      <td>Low</td>\n",
       "    </tr>\n",
       "    <tr>\n",
       "      <th>3</th>\n",
       "      <td>0.353129</td>\n",
       "      <td>0.343184</td>\n",
       "      <td>0.522671</td>\n",
       "      <td>0.418777</td>\n",
       "      <td>0.223161</td>\n",
       "      <td>0.525447</td>\n",
       "      <td>0.458935</td>\n",
       "      <td>0.600709</td>\n",
       "      <td>0.323766</td>\n",
       "      <td>0.623137</td>\n",
       "      <td>...</td>\n",
       "      <td>4eea40723af32721712529331dc268e8</td>\n",
       "      <td>สร้างรายได้เสริมจากที่บ้าน ด้วยการสอน ai เขียน...</td>\n",
       "      <td>59</td>\n",
       "      <td>['สร้าง', 'รายได้', 'เสริม', 'จาก', 'ที่', 'บ้...</td>\n",
       "      <td>0</td>\n",
       "      <td>37</td>\n",
       "      <td>0</td>\n",
       "      <td>True</td>\n",
       "      <td>0.000000</td>\n",
       "      <td>Low</td>\n",
       "    </tr>\n",
       "    <tr>\n",
       "      <th>4</th>\n",
       "      <td>0.570452</td>\n",
       "      <td>0.067015</td>\n",
       "      <td>0.308653</td>\n",
       "      <td>0.352218</td>\n",
       "      <td>0.347666</td>\n",
       "      <td>0.537102</td>\n",
       "      <td>0.193613</td>\n",
       "      <td>0.497158</td>\n",
       "      <td>0.483621</td>\n",
       "      <td>0.717515</td>\n",
       "      <td>...</td>\n",
       "      <td>c863dc028d2446a5a578c77a2efa5806</td>\n",
       "      <td>uniol0 management candidate 2025 25 บีนาคม 256...</td>\n",
       "      <td>73</td>\n",
       "      <td>['uniol', '0', ' ', 'management', ' ', 'candid...</td>\n",
       "      <td>0</td>\n",
       "      <td>17</td>\n",
       "      <td>0</td>\n",
       "      <td>True</td>\n",
       "      <td>0.000000</td>\n",
       "      <td>Low</td>\n",
       "    </tr>\n",
       "    <tr>\n",
       "      <th>...</th>\n",
       "      <td>...</td>\n",
       "      <td>...</td>\n",
       "      <td>...</td>\n",
       "      <td>...</td>\n",
       "      <td>...</td>\n",
       "      <td>...</td>\n",
       "      <td>...</td>\n",
       "      <td>...</td>\n",
       "      <td>...</td>\n",
       "      <td>...</td>\n",
       "      <td>...</td>\n",
       "      <td>...</td>\n",
       "      <td>...</td>\n",
       "      <td>...</td>\n",
       "      <td>...</td>\n",
       "      <td>...</td>\n",
       "      <td>...</td>\n",
       "      <td>...</td>\n",
       "      <td>...</td>\n",
       "      <td>...</td>\n",
       "      <td>...</td>\n",
       "    </tr>\n",
       "    <tr>\n",
       "      <th>1110</th>\n",
       "      <td>0.501477</td>\n",
       "      <td>0.709318</td>\n",
       "      <td>0.594054</td>\n",
       "      <td>0.468367</td>\n",
       "      <td>0.402899</td>\n",
       "      <td>0.624929</td>\n",
       "      <td>0.440527</td>\n",
       "      <td>0.272052</td>\n",
       "      <td>0.834530</td>\n",
       "      <td>0.241055</td>\n",
       "      <td>...</td>\n",
       "      <td>e5a836a0356dc3b5949c00eb9ddb2c08</td>\n",
       "      <td>empty_record</td>\n",
       "      <td>0</td>\n",
       "      <td>['empty', '_record']</td>\n",
       "      <td>0</td>\n",
       "      <td>0</td>\n",
       "      <td>0</td>\n",
       "      <td>False</td>\n",
       "      <td>0.072270</td>\n",
       "      <td>High</td>\n",
       "    </tr>\n",
       "    <tr>\n",
       "      <th>1111</th>\n",
       "      <td>0.339184</td>\n",
       "      <td>0.468420</td>\n",
       "      <td>0.391167</td>\n",
       "      <td>0.396819</td>\n",
       "      <td>0.314405</td>\n",
       "      <td>0.466089</td>\n",
       "      <td>0.555852</td>\n",
       "      <td>0.497243</td>\n",
       "      <td>0.397880</td>\n",
       "      <td>0.577542</td>\n",
       "      <td>...</td>\n",
       "      <td>62d04bf55fa25c0b1e4976346030997c</td>\n",
       "      <td>spring sale</td>\n",
       "      <td>11</td>\n",
       "      <td>['spring', ' ', 'sale']</td>\n",
       "      <td>0</td>\n",
       "      <td>70</td>\n",
       "      <td>0</td>\n",
       "      <td>False</td>\n",
       "      <td>0.053965</td>\n",
       "      <td>High</td>\n",
       "    </tr>\n",
       "    <tr>\n",
       "      <th>1112</th>\n",
       "      <td>0.573479</td>\n",
       "      <td>0.587674</td>\n",
       "      <td>0.394277</td>\n",
       "      <td>0.786340</td>\n",
       "      <td>0.636821</td>\n",
       "      <td>0.249928</td>\n",
       "      <td>0.536042</td>\n",
       "      <td>0.363466</td>\n",
       "      <td>0.418655</td>\n",
       "      <td>0.417026</td>\n",
       "      <td>...</td>\n",
       "      <td>f000a0f5e71a56d81262fe8bab8b2b5a</td>\n",
       "      <td>cstu</td>\n",
       "      <td>4</td>\n",
       "      <td>['cstu']</td>\n",
       "      <td>0</td>\n",
       "      <td>0</td>\n",
       "      <td>0</td>\n",
       "      <td>False</td>\n",
       "      <td>0.063264</td>\n",
       "      <td>High</td>\n",
       "    </tr>\n",
       "    <tr>\n",
       "      <th>1113</th>\n",
       "      <td>0.662974</td>\n",
       "      <td>0.529609</td>\n",
       "      <td>0.232303</td>\n",
       "      <td>0.705959</td>\n",
       "      <td>0.504155</td>\n",
       "      <td>0.368674</td>\n",
       "      <td>0.386872</td>\n",
       "      <td>0.190539</td>\n",
       "      <td>0.321462</td>\n",
       "      <td>0.451873</td>\n",
       "      <td>...</td>\n",
       "      <td>ca7337f25230b8c60291929edd36682e</td>\n",
       "      <td>คณะสกิติประยุกต์นิดา รับสมัคธนักศึกษา ระดับปริ...</td>\n",
       "      <td>85</td>\n",
       "      <td>['คณะ', 'สกิ', 'ติ', 'ประยุกต์', 'นิ', 'ดา', '...</td>\n",
       "      <td>0</td>\n",
       "      <td>35</td>\n",
       "      <td>0</td>\n",
       "      <td>False</td>\n",
       "      <td>0.000000</td>\n",
       "      <td>Low</td>\n",
       "    </tr>\n",
       "    <tr>\n",
       "      <th>1114</th>\n",
       "      <td>0.548906</td>\n",
       "      <td>0.459680</td>\n",
       "      <td>0.444782</td>\n",
       "      <td>0.538465</td>\n",
       "      <td>0.383522</td>\n",
       "      <td>0.641968</td>\n",
       "      <td>0.505393</td>\n",
       "      <td>0.614010</td>\n",
       "      <td>0.480977</td>\n",
       "      <td>0.428767</td>\n",
       "      <td>...</td>\n",
       "      <td>38841c5dfa097c6d49d4ef0a4cdbb92e</td>\n",
       "      <td>ชิงบัตรคอนเสิร์ต</td>\n",
       "      <td>16</td>\n",
       "      <td>['ชิง', 'บัตร', 'คอนเสิร์ต']</td>\n",
       "      <td>0</td>\n",
       "      <td>15</td>\n",
       "      <td>0</td>\n",
       "      <td>False</td>\n",
       "      <td>0.043070</td>\n",
       "      <td>High</td>\n",
       "    </tr>\n",
       "  </tbody>\n",
       "</table>\n",
       "<p>1115 rows × 139 columns</p>\n",
       "</div>"
      ],
      "text/plain": [
       "      feature_0  feature_1  feature_2  feature_3  feature_4  feature_5  \\\n",
       "0      0.708480   0.759826   0.449038   0.476864   0.791149   0.541827   \n",
       "1      0.733801   0.642118   0.425671   0.490838   0.708187   0.605140   \n",
       "2      0.587095   0.655419   0.328038   0.582514   0.626008   0.675075   \n",
       "3      0.353129   0.343184   0.522671   0.418777   0.223161   0.525447   \n",
       "4      0.570452   0.067015   0.308653   0.352218   0.347666   0.537102   \n",
       "...         ...        ...        ...        ...        ...        ...   \n",
       "1110   0.501477   0.709318   0.594054   0.468367   0.402899   0.624929   \n",
       "1111   0.339184   0.468420   0.391167   0.396819   0.314405   0.466089   \n",
       "1112   0.573479   0.587674   0.394277   0.786340   0.636821   0.249928   \n",
       "1113   0.662974   0.529609   0.232303   0.705959   0.504155   0.368674   \n",
       "1114   0.548906   0.459680   0.444782   0.538465   0.383522   0.641968   \n",
       "\n",
       "      feature_6  feature_7  feature_8  feature_9  ...  \\\n",
       "0      0.389004   0.282455   0.802612   0.318787  ...   \n",
       "1      0.204538   0.374215   0.633562   0.262923  ...   \n",
       "2      0.503859   0.556132   0.578276   0.380239  ...   \n",
       "3      0.458935   0.600709   0.323766   0.623137  ...   \n",
       "4      0.193613   0.497158   0.483621   0.717515  ...   \n",
       "...         ...        ...        ...        ...  ...   \n",
       "1110   0.440527   0.272052   0.834530   0.241055  ...   \n",
       "1111   0.555852   0.497243   0.397880   0.577542  ...   \n",
       "1112   0.536042   0.363466   0.418655   0.417026  ...   \n",
       "1113   0.386872   0.190539   0.321462   0.451873  ...   \n",
       "1114   0.505393   0.614010   0.480977   0.428767  ...   \n",
       "\n",
       "                                img_id  \\\n",
       "0     c7e254ff6e829bbd379c791c06dba26a   \n",
       "1     310f05853aa67594eadcecfaeab260c9   \n",
       "2     a602b8402e30353896de582cfc8602d6   \n",
       "3     4eea40723af32721712529331dc268e8   \n",
       "4     c863dc028d2446a5a578c77a2efa5806   \n",
       "...                                ...   \n",
       "1110  e5a836a0356dc3b5949c00eb9ddb2c08   \n",
       "1111  62d04bf55fa25c0b1e4976346030997c   \n",
       "1112  f000a0f5e71a56d81262fe8bab8b2b5a   \n",
       "1113  ca7337f25230b8c60291929edd36682e   \n",
       "1114  38841c5dfa097c6d49d4ef0a4cdbb92e   \n",
       "\n",
       "                                              sentences  text_length  \\\n",
       "0        วันนี - 14 มีนาคม 2568 รีบด่วน 400 web hosting           46   \n",
       "1                   แฟลชเซล มาก่อน ได้ก่อน 899 12 00 น.           35   \n",
       "2     ifex prc ติวเข้ม tfex ให้ takeprofit ได้แบบมือโปร           49   \n",
       "3     สร้างรายได้เสริมจากที่บ้าน ด้วยการสอน ai เขียน...           59   \n",
       "4     uniol0 management candidate 2025 25 บีนาคม 256...           73   \n",
       "...                                                 ...          ...   \n",
       "1110                                       empty_record            0   \n",
       "1111                                        spring sale           11   \n",
       "1112                                               cstu            4   \n",
       "1113  คณะสกิติประยุกต์นิดา รับสมัคธนักศึกษา ระดับปริ...           85   \n",
       "1114                                   ชิงบัตรคอนเสิร์ต           16   \n",
       "\n",
       "                                              word_list  Negative  Neutral  \\\n",
       "0     ['วัน', 'นี', ' ', '-', ' ', '14', ' ', 'มีนาค...         0       16   \n",
       "1     ['แฟลช', 'เซ', 'ล', ' ', 'มา', 'ก่อน', ' ', 'ไ...         0        1   \n",
       "2     ['ifex', ' ', 'prc', ' ', 'ติว', 'เข้ม', ' ', ...         0        6   \n",
       "3     ['สร้าง', 'รายได้', 'เสริม', 'จาก', 'ที่', 'บ้...         0       37   \n",
       "4     ['uniol', '0', ' ', 'management', ' ', 'candid...         0       17   \n",
       "...                                                 ...       ...      ...   \n",
       "1110                               ['empty', '_record']         0        0   \n",
       "1111                            ['spring', ' ', 'sale']         0       70   \n",
       "1112                                           ['cstu']         0        0   \n",
       "1113  ['คณะ', 'สกิ', 'ติ', 'ประยุกต์', 'นิ', 'ดา', '...         0       35   \n",
       "1114                       ['ชิง', 'บัตร', 'คอนเสิร์ต']         0       15   \n",
       "\n",
       "      Positive  has_cta       ctr  ctr_group  \n",
       "0            0    False  0.000000        Low  \n",
       "1            0    False  0.016482        Low  \n",
       "2            0    False  0.000000        Low  \n",
       "3            0     True  0.000000        Low  \n",
       "4            0     True  0.000000        Low  \n",
       "...        ...      ...       ...        ...  \n",
       "1110         0    False  0.072270       High  \n",
       "1111         0    False  0.053965       High  \n",
       "1112         0    False  0.063264       High  \n",
       "1113         0    False  0.000000        Low  \n",
       "1114         0    False  0.043070       High  \n",
       "\n",
       "[1115 rows x 139 columns]"
      ]
     },
     "execution_count": 18,
     "metadata": {},
     "output_type": "execute_result"
    }
   ],
   "source": [
    "df"
   ]
  },
  {
   "cell_type": "code",
   "execution_count": 19,
   "id": "9b2d6f63",
   "metadata": {},
   "outputs": [
    {
     "data": {
      "text/html": [
       "<div>\n",
       "<style scoped>\n",
       "    .dataframe tbody tr th:only-of-type {\n",
       "        vertical-align: middle;\n",
       "    }\n",
       "\n",
       "    .dataframe tbody tr th {\n",
       "        vertical-align: top;\n",
       "    }\n",
       "\n",
       "    .dataframe thead th {\n",
       "        text-align: right;\n",
       "    }\n",
       "</style>\n",
       "<table border=\"1\" class=\"dataframe\">\n",
       "  <thead>\n",
       "    <tr style=\"text-align: right;\">\n",
       "      <th></th>\n",
       "      <th>feature_0</th>\n",
       "      <th>feature_1</th>\n",
       "      <th>feature_2</th>\n",
       "      <th>feature_3</th>\n",
       "      <th>feature_4</th>\n",
       "      <th>feature_5</th>\n",
       "      <th>feature_6</th>\n",
       "      <th>feature_7</th>\n",
       "      <th>feature_8</th>\n",
       "      <th>feature_9</th>\n",
       "      <th>...</th>\n",
       "      <th>img_id</th>\n",
       "      <th>sentences</th>\n",
       "      <th>text_length</th>\n",
       "      <th>word_list</th>\n",
       "      <th>Negative</th>\n",
       "      <th>Neutral</th>\n",
       "      <th>Positive</th>\n",
       "      <th>has_cta</th>\n",
       "      <th>ctr</th>\n",
       "      <th>ctr_group</th>\n",
       "    </tr>\n",
       "  </thead>\n",
       "  <tbody>\n",
       "    <tr>\n",
       "      <th>0</th>\n",
       "      <td>0.708480</td>\n",
       "      <td>0.759826</td>\n",
       "      <td>0.449038</td>\n",
       "      <td>0.476864</td>\n",
       "      <td>0.791149</td>\n",
       "      <td>0.541827</td>\n",
       "      <td>0.389004</td>\n",
       "      <td>0.282455</td>\n",
       "      <td>0.802612</td>\n",
       "      <td>0.318787</td>\n",
       "      <td>...</td>\n",
       "      <td>c7e254ff6e829bbd379c791c06dba26a</td>\n",
       "      <td>วันนี - 14 มีนาคม 2568 รีบด่วน 400 web hosting</td>\n",
       "      <td>46</td>\n",
       "      <td>['วัน', 'นี', ' ', '-', ' ', '14', ' ', 'มีนาค...</td>\n",
       "      <td>0</td>\n",
       "      <td>16</td>\n",
       "      <td>0</td>\n",
       "      <td>False</td>\n",
       "      <td>0.000000</td>\n",
       "      <td>Low</td>\n",
       "    </tr>\n",
       "    <tr>\n",
       "      <th>1</th>\n",
       "      <td>0.733801</td>\n",
       "      <td>0.642118</td>\n",
       "      <td>0.425671</td>\n",
       "      <td>0.490838</td>\n",
       "      <td>0.708187</td>\n",
       "      <td>0.605140</td>\n",
       "      <td>0.204538</td>\n",
       "      <td>0.374215</td>\n",
       "      <td>0.633562</td>\n",
       "      <td>0.262923</td>\n",
       "      <td>...</td>\n",
       "      <td>310f05853aa67594eadcecfaeab260c9</td>\n",
       "      <td>แฟลชเซล มาก่อน ได้ก่อน 899 12 00 น.</td>\n",
       "      <td>35</td>\n",
       "      <td>['แฟลช', 'เซ', 'ล', ' ', 'มา', 'ก่อน', ' ', 'ไ...</td>\n",
       "      <td>0</td>\n",
       "      <td>1</td>\n",
       "      <td>0</td>\n",
       "      <td>False</td>\n",
       "      <td>0.016482</td>\n",
       "      <td>Low</td>\n",
       "    </tr>\n",
       "    <tr>\n",
       "      <th>2</th>\n",
       "      <td>0.587095</td>\n",
       "      <td>0.655419</td>\n",
       "      <td>0.328038</td>\n",
       "      <td>0.582514</td>\n",
       "      <td>0.626008</td>\n",
       "      <td>0.675075</td>\n",
       "      <td>0.503859</td>\n",
       "      <td>0.556132</td>\n",
       "      <td>0.578276</td>\n",
       "      <td>0.380239</td>\n",
       "      <td>...</td>\n",
       "      <td>a602b8402e30353896de582cfc8602d6</td>\n",
       "      <td>ifex prc ติวเข้ม tfex ให้ takeprofit ได้แบบมือโปร</td>\n",
       "      <td>49</td>\n",
       "      <td>['ifex', ' ', 'prc', ' ', 'ติว', 'เข้ม', ' ', ...</td>\n",
       "      <td>0</td>\n",
       "      <td>6</td>\n",
       "      <td>0</td>\n",
       "      <td>False</td>\n",
       "      <td>0.000000</td>\n",
       "      <td>Low</td>\n",
       "    </tr>\n",
       "    <tr>\n",
       "      <th>3</th>\n",
       "      <td>0.353129</td>\n",
       "      <td>0.343184</td>\n",
       "      <td>0.522671</td>\n",
       "      <td>0.418777</td>\n",
       "      <td>0.223161</td>\n",
       "      <td>0.525447</td>\n",
       "      <td>0.458935</td>\n",
       "      <td>0.600709</td>\n",
       "      <td>0.323766</td>\n",
       "      <td>0.623137</td>\n",
       "      <td>...</td>\n",
       "      <td>4eea40723af32721712529331dc268e8</td>\n",
       "      <td>สร้างรายได้เสริมจากที่บ้าน ด้วยการสอน ai เขียน...</td>\n",
       "      <td>59</td>\n",
       "      <td>['สร้าง', 'รายได้', 'เสริม', 'จาก', 'ที่', 'บ้...</td>\n",
       "      <td>0</td>\n",
       "      <td>37</td>\n",
       "      <td>0</td>\n",
       "      <td>True</td>\n",
       "      <td>0.000000</td>\n",
       "      <td>Low</td>\n",
       "    </tr>\n",
       "    <tr>\n",
       "      <th>4</th>\n",
       "      <td>0.570452</td>\n",
       "      <td>0.067015</td>\n",
       "      <td>0.308653</td>\n",
       "      <td>0.352218</td>\n",
       "      <td>0.347666</td>\n",
       "      <td>0.537102</td>\n",
       "      <td>0.193613</td>\n",
       "      <td>0.497158</td>\n",
       "      <td>0.483621</td>\n",
       "      <td>0.717515</td>\n",
       "      <td>...</td>\n",
       "      <td>c863dc028d2446a5a578c77a2efa5806</td>\n",
       "      <td>uniol0 management candidate 2025 25 บีนาคม 256...</td>\n",
       "      <td>73</td>\n",
       "      <td>['uniol', '0', ' ', 'management', ' ', 'candid...</td>\n",
       "      <td>0</td>\n",
       "      <td>17</td>\n",
       "      <td>0</td>\n",
       "      <td>True</td>\n",
       "      <td>0.000000</td>\n",
       "      <td>Low</td>\n",
       "    </tr>\n",
       "  </tbody>\n",
       "</table>\n",
       "<p>5 rows × 139 columns</p>\n",
       "</div>"
      ],
      "text/plain": [
       "   feature_0  feature_1  feature_2  feature_3  feature_4  feature_5  \\\n",
       "0   0.708480   0.759826   0.449038   0.476864   0.791149   0.541827   \n",
       "1   0.733801   0.642118   0.425671   0.490838   0.708187   0.605140   \n",
       "2   0.587095   0.655419   0.328038   0.582514   0.626008   0.675075   \n",
       "3   0.353129   0.343184   0.522671   0.418777   0.223161   0.525447   \n",
       "4   0.570452   0.067015   0.308653   0.352218   0.347666   0.537102   \n",
       "\n",
       "   feature_6  feature_7  feature_8  feature_9  ...  \\\n",
       "0   0.389004   0.282455   0.802612   0.318787  ...   \n",
       "1   0.204538   0.374215   0.633562   0.262923  ...   \n",
       "2   0.503859   0.556132   0.578276   0.380239  ...   \n",
       "3   0.458935   0.600709   0.323766   0.623137  ...   \n",
       "4   0.193613   0.497158   0.483621   0.717515  ...   \n",
       "\n",
       "                             img_id  \\\n",
       "0  c7e254ff6e829bbd379c791c06dba26a   \n",
       "1  310f05853aa67594eadcecfaeab260c9   \n",
       "2  a602b8402e30353896de582cfc8602d6   \n",
       "3  4eea40723af32721712529331dc268e8   \n",
       "4  c863dc028d2446a5a578c77a2efa5806   \n",
       "\n",
       "                                           sentences  text_length  \\\n",
       "0     วันนี - 14 มีนาคม 2568 รีบด่วน 400 web hosting           46   \n",
       "1                แฟลชเซล มาก่อน ได้ก่อน 899 12 00 น.           35   \n",
       "2  ifex prc ติวเข้ม tfex ให้ takeprofit ได้แบบมือโปร           49   \n",
       "3  สร้างรายได้เสริมจากที่บ้าน ด้วยการสอน ai เขียน...           59   \n",
       "4  uniol0 management candidate 2025 25 บีนาคม 256...           73   \n",
       "\n",
       "                                           word_list  Negative  Neutral  \\\n",
       "0  ['วัน', 'นี', ' ', '-', ' ', '14', ' ', 'มีนาค...         0       16   \n",
       "1  ['แฟลช', 'เซ', 'ล', ' ', 'มา', 'ก่อน', ' ', 'ไ...         0        1   \n",
       "2  ['ifex', ' ', 'prc', ' ', 'ติว', 'เข้ม', ' ', ...         0        6   \n",
       "3  ['สร้าง', 'รายได้', 'เสริม', 'จาก', 'ที่', 'บ้...         0       37   \n",
       "4  ['uniol', '0', ' ', 'management', ' ', 'candid...         0       17   \n",
       "\n",
       "   Positive  has_cta       ctr  ctr_group  \n",
       "0         0    False  0.000000        Low  \n",
       "1         0    False  0.016482        Low  \n",
       "2         0    False  0.000000        Low  \n",
       "3         0     True  0.000000        Low  \n",
       "4         0     True  0.000000        Low  \n",
       "\n",
       "[5 rows x 139 columns]"
      ]
     },
     "execution_count": 19,
     "metadata": {},
     "output_type": "execute_result"
    }
   ],
   "source": [
    "df.head()"
   ]
  },
  {
   "cell_type": "code",
   "execution_count": 20,
   "id": "fae02f02",
   "metadata": {},
   "outputs": [],
   "source": [
    "# เช็ค missing แล้ว fillna ถ้ามี fillna คือการเติมหรือแทน missing value\n",
    "df = df.fillna(\"\")"
   ]
  },
  {
   "cell_type": "code",
   "execution_count": 21,
   "id": "cbef3c2d",
   "metadata": {},
   "outputs": [],
   "source": [
    "# แปลง has_cta ให้เป็น int\n",
    "df['has_cta'] = df['has_cta'].astype(int)"
   ]
  },
  {
   "cell_type": "code",
   "execution_count": 22,
   "id": "91787978",
   "metadata": {},
   "outputs": [],
   "source": [
    "# แปลง label เป็น category\n",
    "df['ctr_group'] = df['ctr_group'].astype('category')"
   ]
  },
  {
   "cell_type": "code",
   "execution_count": 23,
   "id": "29ced285",
   "metadata": {},
   "outputs": [],
   "source": [
    "# เพิ่มฟีเจอร์ keyword โปรโมชัน\n",
    "promo_keywords = ['ฟรี', 'ลด', 'โปร', 'ส่งฟรี', 'ราคาพิเศษ', 'ดีล', 'คูปอง', 'flash', 'deal']\n",
    "df['has_promo_keyword'] = df['sentences'].apply(lambda x: any(word in x.lower() for word in promo_keywords)).astype(int)"
   ]
  },
  {
   "cell_type": "code",
   "execution_count": 24,
   "id": "da3c04c2",
   "metadata": {},
   "outputs": [],
   "source": [
    "# เตรียมฟีเจอร์และ label\n",
    "feature_cols = [f'feature_{i}' for i in range(128)] + [\n",
    "    'text_length', 'Negative', 'Neutral', 'Positive', 'has_cta', 'has_promo_keyword'\n",
    "]\n",
    "X = df[feature_cols]\n",
    "y = df['ctr_group']"
   ]
  },
  {
   "cell_type": "code",
   "execution_count": 25,
   "id": "014abbc7",
   "metadata": {},
   "outputs": [
    {
     "name": "stdout",
     "output_type": "stream",
     "text": [
      "Accuracy: 0.9226190476190477\n",
      "              precision    recall  f1-score   support\n",
      "\n",
      "        High       0.96      0.88      0.92        84\n",
      "         Low       0.89      0.96      0.93        84\n",
      "\n",
      "    accuracy                           0.92       168\n",
      "   macro avg       0.93      0.92      0.92       168\n",
      "weighted avg       0.93      0.92      0.92       168\n",
      "\n"
     ]
    }
   ],
   "source": [
    "from sklearn.model_selection import train_test_split\n",
    "from sklearn.ensemble import RandomForestClassifier\n",
    "from sklearn.metrics import classification_report\n",
    "\n",
    "X_train, X_test, y_train, y_test = train_test_split(X, y, stratify=y, test_size=0.15, random_state=42)\n",
    "\n",
    "clf = RandomForestClassifier(n_estimators=200, random_state=42)\n",
    "clf.fit(X_train, y_train)\n",
    "\n",
    "y_pred = clf.predict(X_test)\n",
    "\n",
    "print(\"Accuracy:\", clf.score(X_test, y_test))\n",
    "print(classification_report(y_test, y_pred))"
   ]
  },
  {
   "cell_type": "code",
   "execution_count": 26,
   "id": "e8a8504b",
   "metadata": {},
   "outputs": [
    {
     "data": {
      "image/png": "[encoded data removed]",
      "text/plain": [
       "<Figure size 1000x600 with 1 Axes>"
      ]
     },
     "metadata": {},
     "output_type": "display_data"
    }
   ],
   "source": [
    "import matplotlib.pyplot as plt\n",
    "import seaborn as sns\n",
    "import numpy as np\n",
    "\n",
    "importances = clf.feature_importances_\n",
    "indices = np.argsort(importances)[-20:]  # Top 20 features\n",
    "\n",
    "plt.figure(figsize=(10,6))\n",
    "sns.barplot(x=importances[indices], y=[feature_cols[i] for i in indices])\n",
    "plt.title(\"Top 20 Important Features\")\n",
    "plt.tight_layout()\n",
    "plt.show()\n"
   ]
  },
  {
   "cell_type": "code",
   "execution_count": 27,
   "id": "a5cc60a0",
   "metadata": {},
   "outputs": [],
   "source": [
    "df.dropna(inplace=True)\n",
    "df.reset_index(drop=True, inplace=True)"
   ]
  },
  {
   "cell_type": "code",
   "execution_count": 28,
   "id": "18afe47b",
   "metadata": {},
   "outputs": [],
   "source": [
    "label_encoder = LabelEncoder()\n",
    "df['ctr_group'] = label_encoder.fit_transform(df['ctr_group'])  # Low=0, High=1"
   ]
  },
  {
   "cell_type": "code",
   "execution_count": 29,
   "id": "e297932e",
   "metadata": {},
   "outputs": [],
   "source": [
    "image_features = [f\"feature_{i}\" for i in range(128)]  # use first 128 for now\n",
    "extra_features = ['text_length', 'Negative', 'Neutral', 'Positive', 'has_cta']\n",
    "all_features = image_features + extra_features\n",
    "\n",
    "X = df[all_features]\n",
    "y = df['ctr_group']"
   ]
  },
  {
   "cell_type": "code",
   "execution_count": 30,
   "id": "1cb066d4",
   "metadata": {},
   "outputs": [
    {
     "name": "stderr",
     "output_type": "stream",
     "text": [
      "C:\\Users\\BM MONEY\\AppData\\Local\\Temp\\ipykernel_19616\\3070253564.py:1: SettingWithCopyWarning: \n",
      "A value is trying to be set on a copy of a slice from a DataFrame.\n",
      "Try using .loc[row_indexer,col_indexer] = value instead\n",
      "\n",
      "See the caveats in the documentation: https://pandas.pydata.org/pandas-docs/stable/user_guide/indexing.html#returning-a-view-versus-a-copy\n",
      "  X['has_cta'] = X['has_cta'].astype(int)\n"
     ]
    }
   ],
   "source": [
    "X['has_cta'] = X['has_cta'].astype(int)"
   ]
  },
  {
   "cell_type": "code",
   "execution_count": 31,
   "id": "89a63d34",
   "metadata": {},
   "outputs": [],
   "source": [
    "X_train, X_test, y_train, y_test = train_test_split(X, y, test_size=0.15, stratify=y, random_state=42)"
   ]
  },
  {
   "cell_type": "code",
   "execution_count": 32,
   "id": "c2d92a9d",
   "metadata": {},
   "outputs": [],
   "source": [
    "scaler = StandardScaler()\n",
    "X_train_scaled = scaler.fit_transform(X_train)\n",
    "X_test_scaled = scaler.transform(X_test)"
   ]
  },
  {
   "cell_type": "code",
   "execution_count": 33,
   "id": "3e48eee1",
   "metadata": {},
   "outputs": [
    {
     "data": {
      "text/html": [
       "<style>#sk-container-id-1 {color: black;}#sk-container-id-1 pre{padding: 0;}#sk-container-id-1 div.sk-toggleable {background-color: white;}#sk-container-id-1 label.sk-toggleable__label {cursor: pointer;display: block;width: 100%;margin-bottom: 0;padding: 0.3em;box-sizing: border-box;text-align: center;}#sk-container-id-1 label.sk-toggleable__label-arrow:before {content: \"▸\";float: left;margin-right: 0.25em;color: #696969;}#sk-container-id-1 label.sk-toggleable__label-arrow:hover:before {color: black;}#sk-container-id-1 div.sk-estimator:hover label.sk-toggleable__label-arrow:before {color: black;}#sk-container-id-1 div.sk-toggleable__content {max-height: 0;max-width: 0;overflow: hidden;text-align: left;background-color: #f0f8ff;}#sk-container-id-1 div.sk-toggleable__content pre {margin: 0.2em;color: black;border-radius: 0.25em;background-color: #f0f8ff;}#sk-container-id-1 input.sk-toggleable__control:checked~div.sk-toggleable__content {max-height: 200px;max-width: 100%;overflow: auto;}#sk-container-id-1 input.sk-toggleable__control:checked~label.sk-toggleable__label-arrow:before {content: \"▾\";}#sk-container-id-1 div.sk-estimator input.sk-toggleable__control:checked~label.sk-toggleable__label {background-color: #d4ebff;}#sk-container-id-1 div.sk-label input.sk-toggleable__control:checked~label.sk-toggleable__label {background-color: #d4ebff;}#sk-container-id-1 input.sk-hidden--visually {border: 0;clip: rect(1px 1px 1px 1px);clip: rect(1px, 1px, 1px, 1px);height: 1px;margin: -1px;overflow: hidden;padding: 0;position: absolute;width: 1px;}#sk-container-id-1 div.sk-estimator {font-family: monospace;background-color: #f0f8ff;border: 1px dotted black;border-radius: 0.25em;box-sizing: border-box;margin-bottom: 0.5em;}#sk-container-id-1 div.sk-estimator:hover {background-color: #d4ebff;}#sk-container-id-1 div.sk-parallel-item::after {content: \"\";width: 100%;border-bottom: 1px solid gray;flex-grow: 1;}#sk-container-id-1 div.sk-label:hover label.sk-toggleable__label {background-color: #d4ebff;}#sk-container-id-1 div.sk-serial::before {content: \"\";position: absolute;border-left: 1px solid gray;box-sizing: border-box;top: 0;bottom: 0;left: 50%;z-index: 0;}#sk-container-id-1 div.sk-serial {display: flex;flex-direction: column;align-items: center;background-color: white;padding-right: 0.2em;padding-left: 0.2em;position: relative;}#sk-container-id-1 div.sk-item {position: relative;z-index: 1;}#sk-container-id-1 div.sk-parallel {display: flex;align-items: stretch;justify-content: center;background-color: white;position: relative;}#sk-container-id-1 div.sk-item::before, #sk-container-id-1 div.sk-parallel-item::before {content: \"\";position: absolute;border-left: 1px solid gray;box-sizing: border-box;top: 0;bottom: 0;left: 50%;z-index: -1;}#sk-container-id-1 div.sk-parallel-item {display: flex;flex-direction: column;z-index: 1;position: relative;background-color: white;}#sk-container-id-1 div.sk-parallel-item:first-child::after {align-self: flex-end;width: 50%;}#sk-container-id-1 div.sk-parallel-item:last-child::after {align-self: flex-start;width: 50%;}#sk-container-id-1 div.sk-parallel-item:only-child::after {width: 0;}#sk-container-id-1 div.sk-dashed-wrapped {border: 1px dashed gray;margin: 0 0.4em 0.5em 0.4em;box-sizing: border-box;padding-bottom: 0.4em;background-color: white;}#sk-container-id-1 div.sk-label label {font-family: monospace;font-weight: bold;display: inline-block;line-height: 1.2em;}#sk-container-id-1 div.sk-label-container {text-align: center;}#sk-container-id-1 div.sk-container {/* jupyter's `normalize.less` sets `[hidden] { display: none; }` but bootstrap.min.css set `[hidden] { display: none !important; }` so we also need the `!important` here to be able to override the default hidden behavior on the sphinx rendered scikit-learn.org. See: https://github.com/scikit-learn/scikit-learn/issues/21755 */display: inline-block !important;position: relative;}#sk-container-id-1 div.sk-text-repr-fallback {display: none;}</style><div id=\"sk-container-id-1\" class=\"sk-top-container\"><div class=\"sk-text-repr-fallback\"><pre>RandomForestClassifier(random_state=42)</pre><b>In a Jupyter environment, please rerun this cell to show the HTML representation or trust the notebook. <br />On GitHub, the HTML representation is unable to render, please try loading this page with nbviewer.org.</b></div><div class=\"sk-container\" hidden><div class=\"sk-item\"><div class=\"sk-estimator sk-toggleable\"><input class=\"sk-toggleable__control sk-hidden--visually\" id=\"sk-estimator-id-1\" type=\"checkbox\" checked><label for=\"sk-estimator-id-1\" class=\"sk-toggleable__label sk-toggleable__label-arrow\">RandomForestClassifier</label><div class=\"sk-toggleable__content\"><pre>RandomForestClassifier(random_state=42)</pre></div></div></div></div></div>"
      ],
      "text/plain": [
       "RandomForestClassifier(random_state=42)"
      ]
     },
     "execution_count": 33,
     "metadata": {},
     "output_type": "execute_result"
    }
   ],
   "source": [
    "clf = RandomForestClassifier(n_estimators=100, random_state=42)\n",
    "clf.fit(X_train_scaled, y_train)"
   ]
  },
  {
   "cell_type": "code",
   "execution_count": 34,
   "id": "3f15e8aa",
   "metadata": {},
   "outputs": [
    {
     "name": "stdout",
     "output_type": "stream",
     "text": [
      "Accuracy: 0.9345238095238095\n",
      "              precision    recall  f1-score   support\n",
      "\n",
      "           0       0.96      0.90      0.93        84\n",
      "           1       0.91      0.96      0.94        84\n",
      "\n",
      "    accuracy                           0.93       168\n",
      "   macro avg       0.94      0.93      0.93       168\n",
      "weighted avg       0.94      0.93      0.93       168\n",
      "\n"
     ]
    }
   ],
   "source": [
    "y_pred = clf.predict(X_test_scaled)\n",
    "print(\"Accuracy:\", accuracy_score(y_test, y_pred))\n",
    "print(classification_report(y_test, y_pred))"
   ]
  },
  {
   "cell_type": "code",
   "execution_count": 35,
   "id": "f9142b14",
   "metadata": {},
   "outputs": [
    {
     "data": {
      "image/png": "[encoded data removed]",
      "text/plain": [
       "<Figure size 1000x600 with 1 Axes>"
      ]
     },
     "metadata": {},
     "output_type": "display_data"
    }
   ],
   "source": [
    "importances = clf.feature_importances_\n",
    "indices = np.argsort(importances)[-20:]\n",
    "plt.figure(figsize=(10, 6))\n",
    "plt.title(\"Top 20 Important Features\")\n",
    "plt.barh(range(len(indices)), importances[indices], align=\"center\")\n",
    "plt.yticks(range(len(indices)), [all_features[i] for i in indices])\n",
    "plt.xlabel(\"Relative Importance\")\n",
    "plt.tight_layout()\n",
    "plt.show()"
   ]
  },
  {
   "cell_type": "code",
   "execution_count": 36,
   "id": "40ffbe2a",
   "metadata": {},
   "outputs": [],
   "source": [
    "# 1. เตรียม X, y\n",
    "X = df.drop(['ctr_group', 'ctr', 'img_id', 'sentences', 'word_list'], axis=1)\n",
    "y = df['ctr_group']"
   ]
  },
  {
   "cell_type": "code",
   "execution_count": 37,
   "id": "9a5c05a5",
   "metadata": {},
   "outputs": [],
   "source": [
    "# 2. แปลง label เป็นตัวเลข\n",
    "le = LabelEncoder()\n",
    "y_encoded = le.fit_transform(y)  # 'Low' -> 0, 'High' -> 1"
   ]
  },
  {
   "cell_type": "code",
   "execution_count": 38,
   "id": "85d93754",
   "metadata": {},
   "outputs": [
    {
     "name": "stdout",
     "output_type": "stream",
     "text": [
      "Before SMOTE: ctr_group\n",
      "1    558\n",
      "0    557\n",
      "Name: count, dtype: int64\n",
      "After SMOTE: 1    558\n",
      "0    558\n",
      "Name: count, dtype: int64\n"
     ]
    }
   ],
   "source": [
    "# 3. ใช้ SMOTE Smote เป็นวิธีสร้าง ข้อมูลปลอม (synthetic samples) ขึ้นมาใน class ที่มีน้อย เพื่อให้ class ต่าง ๆ มีจำนวนสมดุลกันมากขึ้น\n",
    "smote = SMOTE(random_state=42)\n",
    "X_resampled, y_resampled = smote.fit_resample(X, y_encoded)\n",
    "\n",
    "print(\"Before SMOTE:\", y.value_counts())\n",
    "print(\"After SMOTE:\", pd.Series(y_resampled).value_counts())"
   ]
  },
  {
   "cell_type": "code",
   "execution_count": 39,
   "id": "cfc99c9d",
   "metadata": {},
   "outputs": [],
   "source": [
    "# 4. แบ่ง train/test ใหม่\n",
    "X_train, X_test, y_train, y_test = train_test_split(\n",
    "    X_resampled, y_resampled, test_size=0.15, random_state=42\n",
    ")"
   ]
  },
  {
   "cell_type": "code",
   "execution_count": 40,
   "id": "9be0a5d0",
   "metadata": {},
   "outputs": [
    {
     "data": {
      "text/html": [
       "<style>#sk-container-id-2 {color: black;}#sk-container-id-2 pre{padding: 0;}#sk-container-id-2 div.sk-toggleable {background-color: white;}#sk-container-id-2 label.sk-toggleable__label {cursor: pointer;display: block;width: 100%;margin-bottom: 0;padding: 0.3em;box-sizing: border-box;text-align: center;}#sk-container-id-2 label.sk-toggleable__label-arrow:before {content: \"▸\";float: left;margin-right: 0.25em;color: #696969;}#sk-container-id-2 label.sk-toggleable__label-arrow:hover:before {color: black;}#sk-container-id-2 div.sk-estimator:hover label.sk-toggleable__label-arrow:before {color: black;}#sk-container-id-2 div.sk-toggleable__content {max-height: 0;max-width: 0;overflow: hidden;text-align: left;background-color: #f0f8ff;}#sk-container-id-2 div.sk-toggleable__content pre {margin: 0.2em;color: black;border-radius: 0.25em;background-color: #f0f8ff;}#sk-container-id-2 input.sk-toggleable__control:checked~div.sk-toggleable__content {max-height: 200px;max-width: 100%;overflow: auto;}#sk-container-id-2 input.sk-toggleable__control:checked~label.sk-toggleable__label-arrow:before {content: \"▾\";}#sk-container-id-2 div.sk-estimator input.sk-toggleable__control:checked~label.sk-toggleable__label {background-color: #d4ebff;}#sk-container-id-2 div.sk-label input.sk-toggleable__control:checked~label.sk-toggleable__label {background-color: #d4ebff;}#sk-container-id-2 input.sk-hidden--visually {border: 0;clip: rect(1px 1px 1px 1px);clip: rect(1px, 1px, 1px, 1px);height: 1px;margin: -1px;overflow: hidden;padding: 0;position: absolute;width: 1px;}#sk-container-id-2 div.sk-estimator {font-family: monospace;background-color: #f0f8ff;border: 1px dotted black;border-radius: 0.25em;box-sizing: border-box;margin-bottom: 0.5em;}#sk-container-id-2 div.sk-estimator:hover {background-color: #d4ebff;}#sk-container-id-2 div.sk-parallel-item::after {content: \"\";width: 100%;border-bottom: 1px solid gray;flex-grow: 1;}#sk-container-id-2 div.sk-label:hover label.sk-toggleable__label {background-color: #d4ebff;}#sk-container-id-2 div.sk-serial::before {content: \"\";position: absolute;border-left: 1px solid gray;box-sizing: border-box;top: 0;bottom: 0;left: 50%;z-index: 0;}#sk-container-id-2 div.sk-serial {display: flex;flex-direction: column;align-items: center;background-color: white;padding-right: 0.2em;padding-left: 0.2em;position: relative;}#sk-container-id-2 div.sk-item {position: relative;z-index: 1;}#sk-container-id-2 div.sk-parallel {display: flex;align-items: stretch;justify-content: center;background-color: white;position: relative;}#sk-container-id-2 div.sk-item::before, #sk-container-id-2 div.sk-parallel-item::before {content: \"\";position: absolute;border-left: 1px solid gray;box-sizing: border-box;top: 0;bottom: 0;left: 50%;z-index: -1;}#sk-container-id-2 div.sk-parallel-item {display: flex;flex-direction: column;z-index: 1;position: relative;background-color: white;}#sk-container-id-2 div.sk-parallel-item:first-child::after {align-self: flex-end;width: 50%;}#sk-container-id-2 div.sk-parallel-item:last-child::after {align-self: flex-start;width: 50%;}#sk-container-id-2 div.sk-parallel-item:only-child::after {width: 0;}#sk-container-id-2 div.sk-dashed-wrapped {border: 1px dashed gray;margin: 0 0.4em 0.5em 0.4em;box-sizing: border-box;padding-bottom: 0.4em;background-color: white;}#sk-container-id-2 div.sk-label label {font-family: monospace;font-weight: bold;display: inline-block;line-height: 1.2em;}#sk-container-id-2 div.sk-label-container {text-align: center;}#sk-container-id-2 div.sk-container {/* jupyter's `normalize.less` sets `[hidden] { display: none; }` but bootstrap.min.css set `[hidden] { display: none !important; }` so we also need the `!important` here to be able to override the default hidden behavior on the sphinx rendered scikit-learn.org. See: https://github.com/scikit-learn/scikit-learn/issues/21755 */display: inline-block !important;position: relative;}#sk-container-id-2 div.sk-text-repr-fallback {display: none;}</style><div id=\"sk-container-id-2\" class=\"sk-top-container\"><div class=\"sk-text-repr-fallback\"><pre>RandomForestClassifier(random_state=42)</pre><b>In a Jupyter environment, please rerun this cell to show the HTML representation or trust the notebook. <br />On GitHub, the HTML representation is unable to render, please try loading this page with nbviewer.org.</b></div><div class=\"sk-container\" hidden><div class=\"sk-item\"><div class=\"sk-estimator sk-toggleable\"><input class=\"sk-toggleable__control sk-hidden--visually\" id=\"sk-estimator-id-2\" type=\"checkbox\" checked><label for=\"sk-estimator-id-2\" class=\"sk-toggleable__label sk-toggleable__label-arrow\">RandomForestClassifier</label><div class=\"sk-toggleable__content\"><pre>RandomForestClassifier(random_state=42)</pre></div></div></div></div></div>"
      ],
      "text/plain": [
       "RandomForestClassifier(random_state=42)"
      ]
     },
     "execution_count": 40,
     "metadata": {},
     "output_type": "execute_result"
    }
   ],
   "source": [
    "# 5. Train model ใหม่\n",
    "rf = RandomForestClassifier(random_state=42)\n",
    "rf.fit(X_train, y_train)"
   ]
  },
  {
   "cell_type": "code",
   "execution_count": 41,
   "id": "2c6564c9",
   "metadata": {},
   "outputs": [
    {
     "name": "stdout",
     "output_type": "stream",
     "text": [
      "              precision    recall  f1-score   support\n",
      "\n",
      "           0       0.89      0.92      0.90        85\n",
      "           1       0.91      0.88      0.90        83\n",
      "\n",
      "    accuracy                           0.90       168\n",
      "   macro avg       0.90      0.90      0.90       168\n",
      "weighted avg       0.90      0.90      0.90       168\n",
      "\n"
     ]
    }
   ],
   "source": [
    "# 6. Evaluate\n",
    "y_pred = rf.predict(X_test)\n",
    "print(classification_report(y_test, y_pred))"
   ]
  },
  {
   "cell_type": "code",
   "execution_count": 42,
   "id": "56fc4902",
   "metadata": {},
   "outputs": [],
   "source": [
    "feature_names = X.columns.tolist()"
   ]
  },
  {
   "cell_type": "code",
   "execution_count": 43,
   "id": "5cea3162",
   "metadata": {},
   "outputs": [],
   "source": [
    "top_indices = np.argsort(importances)[::-1][:20]\n",
    "top_features = [feature_names[i] for i in top_indices]\n",
    "\n",
    "X_top = X[top_features]"
   ]
  },
  {
   "cell_type": "code",
   "execution_count": 44,
   "id": "530ab5bd",
   "metadata": {},
   "outputs": [],
   "source": [
    "# เอา top 20 feature ที่สำคัญที่สุด\n",
    "top_indices = np.argsort(importances)[::-1][:20]\n",
    "top_features = [feature_names[i] for i in top_indices]\n",
    "\n",
    "# เลือกเฉพาะ column เหล่านี้\n",
    "X_top = X[top_features]"
   ]
  },
  {
   "cell_type": "code",
   "execution_count": 45,
   "id": "ad1416d1",
   "metadata": {},
   "outputs": [
    {
     "name": "stdout",
     "output_type": "stream",
     "text": [
      "Best parameters: {'max_depth': 10, 'min_samples_leaf': 2, 'min_samples_split': 2, 'n_estimators': 200}\n"
     ]
    }
   ],
   "source": [
    "param_grid = {\n",
    "    'n_estimators': [100, 200],\n",
    "    'max_depth': [None, 10, 20],\n",
    "    'min_samples_split': [2, 5],\n",
    "    'min_samples_leaf': [1, 2]\n",
    "}\n",
    "\n",
    "rf = RandomForestClassifier(random_state=42)\n",
    "grid_search = GridSearchCV(estimator=rf, param_grid=param_grid,\n",
    "                           cv=5, scoring='f1_weighted', n_jobs=-1)\n",
    "\n",
    "grid_search.fit(X_top, y)  # ใช้ X_top แทน X เดิม\n",
    "print(\"Best parameters:\", grid_search.best_params_)\n"
   ]
  },
  {
   "cell_type": "code",
   "execution_count": 46,
   "id": "ec7063ba",
   "metadata": {},
   "outputs": [
    {
     "name": "stdout",
     "output_type": "stream",
     "text": [
      "cluster_id: 0.2931\n",
      "Negative: 0.1174\n",
      "Neutral: 0.0107\n",
      "feature_44: 0.0100\n",
      "feature_25: 0.0093\n",
      "feature_2: 0.0067\n",
      "feature_42: 0.0067\n",
      "feature_122: 0.0066\n",
      "feature_100: 0.0063\n",
      "feature_94: 0.0063\n",
      "feature_23: 0.0058\n",
      "feature_106: 0.0058\n",
      "feature_43: 0.0058\n",
      "feature_50: 0.0058\n",
      "feature_102: 0.0057\n",
      "feature_7: 0.0057\n",
      "feature_18: 0.0057\n",
      "feature_60: 0.0056\n",
      "feature_97: 0.0056\n",
      "feature_46: 0.0056\n"
     ]
    }
   ],
   "source": [
    "for i in top_indices:\n",
    "    print(f\"{feature_names[i]}: {importances[i]:.4f}\")"
   ]
  },
  {
   "cell_type": "code",
   "execution_count": 47,
   "id": "f20394c6",
   "metadata": {},
   "outputs": [],
   "source": [
    "image_folder = r\"images\"       # ถ้าอยู่ใน images/\n",
    "# หรือ\n",
    "image_folder = r\"./ads\"        # ถ้าอยู่ใน ads/ (relative path)"
   ]
  },
  {
   "cell_type": "code",
   "execution_count": 48,
   "id": "b3ea5cff",
   "metadata": {},
   "outputs": [
    {
     "name": "stdout",
     "output_type": "stream",
     "text": [
      "['.git', 'Data', 'EDA and Processing', 'Feature Engineering', 'Model Result', 'Model Training', 'Pre-Model VAE', 'Processing Photo Ads', 'requirements.txt', 'SHAP', 'wtf (2).ipynb']\n"
     ]
    }
   ],
   "source": [
    "import os\n",
    "print(os.listdir())"
   ]
  },
  {
   "cell_type": "code",
   "execution_count": 49,
   "id": "010d028f",
   "metadata": {},
   "outputs": [
    {
     "name": "stdout",
     "output_type": "stream",
     "text": [
      "พบรูปภาพจำนวน 0 ไฟล์\n",
      "ตัวอย่างไฟล์ภาพ: []\n"
     ]
    }
   ],
   "source": [
    "import glob\n",
    "\n",
    "# หาทุกไฟล์ภาพ .jpg หรือ .png จากทุกโฟลเดอร์ย่อย\n",
    "image_paths = glob.glob(\"**/*.jpg\", recursive=True) + glob.glob(\"**/*.png\", recursive=True)\n",
    "\n",
    "print(f\"พบรูปภาพจำนวน {len(image_paths)} ไฟล์\")\n",
    "print(\"ตัวอย่างไฟล์ภาพ:\", image_paths[:5])\n"
   ]
  }
 ],
 "metadata": {
  "kernelspec": {
   "display_name": "base",
   "language": "python",
   "name": "python3"
  },
  "language_info": {
   "codemirror_mode": {
    "name": "ipython",
    "version": 3
   },
   "file_extension": ".py",
   "mimetype": "text/x-python",
   "name": "python",
   "nbconvert_exporter": "python",
   "pygments_lexer": "ipython3",
   "version": "3.11.4"
  }
 },
 "nbformat": 4,
 "nbformat_minor": 5
}
